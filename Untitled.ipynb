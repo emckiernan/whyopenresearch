{
 "cells": [
  {
   "cell_type": "code",
   "execution_count": 51,
   "metadata": {
    "collapsed": false
   },
   "outputs": [
    {
     "name": "stdout",
     "output_type": "stream",
     "text": [
      "about\n",
      "archiving\n",
      "cards\n",
      "coauthors\n",
      "control\n",
      "costs\n",
      "funding\n",
      "gallery\n",
      "impactfactor\n",
      "index\n",
      "journals\n",
      "oafunds\n",
      "oaquotes\n",
      "paywalls\n",
      "peerreview\n",
      "promotion\n",
      "reproducibility\n",
      "scooping\n",
      "slides\n",
      "videos\n",
      "visibility\n"
     ]
    }
   ],
   "source": [
    "import codecs\n",
    "from bs4 import BeautifulSoup\n",
    "import glob\n",
    "pages = glob.glob(\"*.html\")\n",
    "\n",
    "for page in pages:\n",
    "    name = page.split(\".\")[0]\n",
    "    print (name)\n",
    "    html=codecs.open(page, 'r')\n",
    "    text = html.read()\n",
    "    soup = BeautifulSoup(text,\"html.parser\")\n",
    "    for link in soup.findAll('a'):\n",
    "        link['href'] = link['href'].replace(\".html\", \"\")\n",
    "    html = soup.prettify()\n",
    "    \n",
    "    with open(name+\".html\", \"w\") as f:\n",
    "        f.write(html)"
   ]
  },
  {
   "cell_type": "code",
   "execution_count": 43,
   "metadata": {
    "collapsed": false
   },
   "outputs": [],
   "source": []
  },
  {
   "cell_type": "code",
   "execution_count": null,
   "metadata": {
    "collapsed": false
   },
   "outputs": [],
   "source": []
  },
  {
   "cell_type": "code",
   "execution_count": null,
   "metadata": {
    "collapsed": false
   },
   "outputs": [],
   "source": []
  },
  {
   "cell_type": "code",
   "execution_count": null,
   "metadata": {
    "collapsed": true
   },
   "outputs": [],
   "source": []
  },
  {
   "cell_type": "code",
   "execution_count": null,
   "metadata": {
    "collapsed": true
   },
   "outputs": [],
   "source": []
  }
 ],
 "metadata": {
  "kernelspec": {
   "display_name": "Python 3",
   "language": "python",
   "name": "python3"
  },
  "language_info": {
   "codemirror_mode": {
    "name": "ipython",
    "version": 3
   },
   "file_extension": ".py",
   "mimetype": "text/x-python",
   "name": "python",
   "nbconvert_exporter": "python",
   "pygments_lexer": "ipython3",
   "version": "3.5.2"
  }
 },
 "nbformat": 4,
 "nbformat_minor": 1
}
